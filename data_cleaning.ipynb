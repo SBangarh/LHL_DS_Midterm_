{
 "cells": [
  {
   "cell_type": "code",
   "execution_count": 1,
   "metadata": {},
   "outputs": [],
   "source": [
    "#import relevent libraries\n",
    "import pandas as pd\n"
   ]
  },
  {
   "cell_type": "code",
   "execution_count": null,
   "metadata": {},
   "outputs": [],
   "source": [
    "#load data into dataframe\n",
    "\n",
    "file = \"allegations_202007271729.csv\"\n",
    "\n",
    "complaints_df = pd.read_csv(file)\n",
    "\n",
    "#complaints_df.head()"
   ]
  },
  {
   "cell_type": "code",
   "execution_count": 15,
   "metadata": {},
   "outputs": [
    {
     "data": {
      "text/plain": [
       "unique_mos_id                  0\n",
       "first_name                     0\n",
       "last_name                      0\n",
       "command_now                    0\n",
       "shield_no                      0\n",
       "complaint_id                   0\n",
       "month_received                 0\n",
       "year_received                  0\n",
       "month_closed                   0\n",
       "year_closed                    0\n",
       "command_at_incident         1544\n",
       "rank_abbrev_incident           0\n",
       "rank_abbrev_now                0\n",
       "rank_now                       0\n",
       "rank_incident                  0\n",
       "mos_ethnicity                  0\n",
       "mos_gender                     0\n",
       "mos_age_incident               0\n",
       "complainant_ethnicity       4464\n",
       "complainant_gender          4195\n",
       "complainant_age_incident    4812\n",
       "fado_type                      0\n",
       "allegation                     1\n",
       "precinct                      24\n",
       "contact_reason               199\n",
       "outcome_description           56\n",
       "board_disposition              0\n",
       "dtype: int64"
      ]
     },
     "execution_count": 15,
     "metadata": {},
     "output_type": "execute_result"
    }
   ],
   "source": [
    "# Functions for EDA and for later QA\n",
    "\n",
    "def check_dups(dataframe):\n",
    "    duplicates = dataframe[dataframe.duplicated()]\n",
    "    num_dups = len(duplicates)\n",
    "    if num_dups > 0:\n",
    "        return f\"There are {num_dups} duplicates in your dataset\", duplicates\n",
    "    else:\n",
    "        return f\"There are {num_dups} duplicates in your dataset\"\n",
    "\n",
    "def drop_dups(dataframe):\n",
    "    dataframe = dataframe.drop_duplicates()\n",
    "    return dataframe\n",
    "\n",
    "def check_nulls(dataframe):\n",
    "    num_nulls = dataframe.isnull().sum()\n",
    "    return num_nulls\n",
    "\n"
   ]
  },
  {
   "cell_type": "code",
   "execution_count": null,
   "metadata": {},
   "outputs": [],
   "source": []
  }
 ],
 "metadata": {
  "kernelspec": {
   "display_name": "base",
   "language": "python",
   "name": "python3"
  },
  "language_info": {
   "codemirror_mode": {
    "name": "ipython",
    "version": 3
   },
   "file_extension": ".py",
   "mimetype": "text/x-python",
   "name": "python",
   "nbconvert_exporter": "python",
   "pygments_lexer": "ipython3",
   "version": "3.11.4"
  },
  "orig_nbformat": 4
 },
 "nbformat": 4,
 "nbformat_minor": 2
}
